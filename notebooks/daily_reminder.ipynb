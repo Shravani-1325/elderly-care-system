{
 "cells": [
  {
   "cell_type": "markdown",
   "metadata": {},
   "source": [
    "# Daily Reminder Dataset"
   ]
  },
  {
   "cell_type": "code",
   "execution_count": 1,
   "metadata": {},
   "outputs": [
    {
     "name": "stderr",
     "output_type": "stream",
     "text": [
      "<>:4: SyntaxWarning: invalid escape sequence '\\M'\n",
      "<>:4: SyntaxWarning: invalid escape sequence '\\M'\n",
      "C:\\Users\\DELL\\AppData\\Local\\Temp\\ipykernel_1568\\1909976674.py:4: SyntaxWarning: invalid escape sequence '\\M'\n",
      "  file_path = \"D:\\Machine_Learning_Project\\AI_for_Elderly_Care_and_Support\\Dataset\\daily_reminder.csv\"\n"
     ]
    }
   ],
   "source": [
    "import pandas as pd\n",
    "import os\n",
    "\n",
    "file_path = \"D:\\Machine_Learning_Project\\AI_for_Elderly_Care_and_Support\\Dataset\\daily_reminder.csv\"\n",
    "daily_reminder_df = pd.read_csv(file_path)\n"
   ]
  },
  {
   "cell_type": "code",
   "execution_count": 2,
   "metadata": {},
   "outputs": [
    {
     "name": "stdout",
     "output_type": "stream",
     "text": [
      "<class 'pandas.core.frame.DataFrame'>\n",
      "RangeIndex: 10000 entries, 0 to 9999\n",
      "Data columns (total 7 columns):\n",
      " #   Column                  Non-Null Count  Dtype  \n",
      "---  ------                  --------------  -----  \n",
      " 0   Device-ID/User-ID       10000 non-null  object \n",
      " 1   Timestamp               10000 non-null  object \n",
      " 2   Reminder Type           10000 non-null  object \n",
      " 3   Scheduled Time          10000 non-null  object \n",
      " 4   Reminder Sent (Yes/No)  10000 non-null  object \n",
      " 5   Acknowledged (Yes/No)   10000 non-null  object \n",
      " 6   Unnamed: 6              0 non-null      float64\n",
      "dtypes: float64(1), object(6)\n",
      "memory usage: 547.0+ KB\n"
     ]
    }
   ],
   "source": [
    "# Displaying basic info()\n",
    "daily_reminder_df.info()"
   ]
  },
  {
   "cell_type": "code",
   "execution_count": 3,
   "metadata": {},
   "outputs": [
    {
     "data": {
      "text/html": [
       "<div>\n",
       "<style scoped>\n",
       "    .dataframe tbody tr th:only-of-type {\n",
       "        vertical-align: middle;\n",
       "    }\n",
       "\n",
       "    .dataframe tbody tr th {\n",
       "        vertical-align: top;\n",
       "    }\n",
       "\n",
       "    .dataframe thead th {\n",
       "        text-align: right;\n",
       "    }\n",
       "</style>\n",
       "<table border=\"1\" class=\"dataframe\">\n",
       "  <thead>\n",
       "    <tr style=\"text-align: right;\">\n",
       "      <th></th>\n",
       "      <th>Device-ID/User-ID</th>\n",
       "      <th>Timestamp</th>\n",
       "      <th>Reminder Type</th>\n",
       "      <th>Scheduled Time</th>\n",
       "      <th>Reminder Sent (Yes/No)</th>\n",
       "      <th>Acknowledged (Yes/No)</th>\n",
       "      <th>Unnamed: 6</th>\n",
       "    </tr>\n",
       "  </thead>\n",
       "  <tbody>\n",
       "    <tr>\n",
       "      <th>0</th>\n",
       "      <td>D1000</td>\n",
       "      <td>1/2/2025 11:25</td>\n",
       "      <td>Exercise</td>\n",
       "      <td>13:00:00</td>\n",
       "      <td>No</td>\n",
       "      <td>No</td>\n",
       "      <td>NaN</td>\n",
       "    </tr>\n",
       "    <tr>\n",
       "      <th>1</th>\n",
       "      <td>D1001</td>\n",
       "      <td>1/3/2025 2:52</td>\n",
       "      <td>Hydration</td>\n",
       "      <td>13:00:00</td>\n",
       "      <td>Yes</td>\n",
       "      <td>Yes</td>\n",
       "      <td>NaN</td>\n",
       "    </tr>\n",
       "    <tr>\n",
       "      <th>2</th>\n",
       "      <td>D1002</td>\n",
       "      <td>1/8/2025 13:50</td>\n",
       "      <td>Appointment</td>\n",
       "      <td>13:30:00</td>\n",
       "      <td>No</td>\n",
       "      <td>No</td>\n",
       "      <td>NaN</td>\n",
       "    </tr>\n",
       "    <tr>\n",
       "      <th>3</th>\n",
       "      <td>D1003</td>\n",
       "      <td>1/5/2025 5:16</td>\n",
       "      <td>Exercise</td>\n",
       "      <td>8:00:00</td>\n",
       "      <td>No</td>\n",
       "      <td>No</td>\n",
       "      <td>NaN</td>\n",
       "    </tr>\n",
       "    <tr>\n",
       "      <th>4</th>\n",
       "      <td>D1004</td>\n",
       "      <td>1/1/2025 4:20</td>\n",
       "      <td>Medication</td>\n",
       "      <td>11:30:00</td>\n",
       "      <td>No</td>\n",
       "      <td>No</td>\n",
       "      <td>NaN</td>\n",
       "    </tr>\n",
       "  </tbody>\n",
       "</table>\n",
       "</div>"
      ],
      "text/plain": [
       "  Device-ID/User-ID       Timestamp Reminder Type Scheduled Time  \\\n",
       "0             D1000  1/2/2025 11:25      Exercise       13:00:00   \n",
       "1             D1001   1/3/2025 2:52     Hydration       13:00:00   \n",
       "2             D1002  1/8/2025 13:50   Appointment       13:30:00   \n",
       "3             D1003   1/5/2025 5:16      Exercise        8:00:00   \n",
       "4             D1004   1/1/2025 4:20    Medication       11:30:00   \n",
       "\n",
       "  Reminder Sent (Yes/No) Acknowledged (Yes/No)  Unnamed: 6  \n",
       "0                     No                    No         NaN  \n",
       "1                    Yes                   Yes         NaN  \n",
       "2                     No                    No         NaN  \n",
       "3                     No                    No         NaN  \n",
       "4                     No                    No         NaN  "
      ]
     },
     "execution_count": 3,
     "metadata": {},
     "output_type": "execute_result"
    }
   ],
   "source": [
    "daily_reminder_df.head()"
   ]
  },
  {
   "cell_type": "code",
   "execution_count": 4,
   "metadata": {},
   "outputs": [],
   "source": [
    "# Droping the empty column\n",
    "daily_reminder_df = daily_reminder_df.drop(columns=[\"Unnamed: 6\"])"
   ]
  },
  {
   "cell_type": "code",
   "execution_count": 5,
   "metadata": {},
   "outputs": [],
   "source": [
    "# REnaming the column\n",
    "\n",
    "daily_reminder_df = daily_reminder_df.rename(columns={\n",
    "    \"Device-ID/User-ID\": \"user_id\",\n",
    "    \"Timestamp\": \"timestamp\",\n",
    "    \"Reminder Type\": \"reminder_type\",\n",
    "    \"Scheduled Time\": \"schedule_time\",\n",
    "    \"Reminder Sent (Yes/No)\": \"reminder_sent\",\n",
    "    \"Acknowledged (Yes/No)\": \"acknowledged\"\n",
    "})\n"
   ]
  },
  {
   "cell_type": "code",
   "execution_count": 6,
   "metadata": {},
   "outputs": [],
   "source": [
    "# Converting the timestamp to datetime format\n",
    "daily_reminder_df[\"timestamp\"] = pd.to_datetime(daily_reminder_df[\"timestamp\"])"
   ]
  },
  {
   "cell_type": "code",
   "execution_count": 7,
   "metadata": {},
   "outputs": [],
   "source": [
    "# Converting schedule time to time format\n",
    "\n",
    "daily_reminder_df[\"schedule_time\"] = pd.to_datetime(daily_reminder_df[\"schedule_time\"], format='%H:%M:%S').dt.time"
   ]
  },
  {
   "cell_type": "code",
   "execution_count": 8,
   "metadata": {},
   "outputs": [],
   "source": [
    "# Converting Yes/No columns to binary (1= yes, 0 = No)\n",
    "daily_reminder_df[\"reminder_sent\"] = daily_reminder_df[\"reminder_sent\"].map({\"Yes\": 1, \"No\": 0})\n",
    "daily_reminder_df[\"acknowledged\"] = daily_reminder_df[\"acknowledged\"].map({\"Yes\": 1, \"No\": 0})"
   ]
  },
  {
   "cell_type": "code",
   "execution_count": 9,
   "metadata": {},
   "outputs": [
    {
     "name": "stdout",
     "output_type": "stream",
     "text": [
      "<class 'pandas.core.frame.DataFrame'>\n",
      "RangeIndex: 10000 entries, 0 to 9999\n",
      "Data columns (total 6 columns):\n",
      " #   Column         Non-Null Count  Dtype         \n",
      "---  ------         --------------  -----         \n",
      " 0   user_id        10000 non-null  object        \n",
      " 1   timestamp      10000 non-null  datetime64[ns]\n",
      " 2   reminder_type  10000 non-null  object        \n",
      " 3   schedule_time  10000 non-null  object        \n",
      " 4   reminder_sent  10000 non-null  int64         \n",
      " 5   acknowledged   10000 non-null  int64         \n",
      "dtypes: datetime64[ns](1), int64(2), object(3)\n",
      "memory usage: 468.9+ KB\n"
     ]
    }
   ],
   "source": [
    "# Final code\n",
    "daily_reminder_df.info()"
   ]
  },
  {
   "cell_type": "code",
   "execution_count": 10,
   "metadata": {},
   "outputs": [
    {
     "data": {
      "text/html": [
       "<div>\n",
       "<style scoped>\n",
       "    .dataframe tbody tr th:only-of-type {\n",
       "        vertical-align: middle;\n",
       "    }\n",
       "\n",
       "    .dataframe tbody tr th {\n",
       "        vertical-align: top;\n",
       "    }\n",
       "\n",
       "    .dataframe thead th {\n",
       "        text-align: right;\n",
       "    }\n",
       "</style>\n",
       "<table border=\"1\" class=\"dataframe\">\n",
       "  <thead>\n",
       "    <tr style=\"text-align: right;\">\n",
       "      <th></th>\n",
       "      <th>user_id</th>\n",
       "      <th>timestamp</th>\n",
       "      <th>reminder_type</th>\n",
       "      <th>schedule_time</th>\n",
       "      <th>reminder_sent</th>\n",
       "      <th>acknowledged</th>\n",
       "    </tr>\n",
       "  </thead>\n",
       "  <tbody>\n",
       "    <tr>\n",
       "      <th>0</th>\n",
       "      <td>D1000</td>\n",
       "      <td>2025-01-02 11:25:00</td>\n",
       "      <td>Exercise</td>\n",
       "      <td>13:00:00</td>\n",
       "      <td>0</td>\n",
       "      <td>0</td>\n",
       "    </tr>\n",
       "    <tr>\n",
       "      <th>1</th>\n",
       "      <td>D1001</td>\n",
       "      <td>2025-01-03 02:52:00</td>\n",
       "      <td>Hydration</td>\n",
       "      <td>13:00:00</td>\n",
       "      <td>1</td>\n",
       "      <td>1</td>\n",
       "    </tr>\n",
       "    <tr>\n",
       "      <th>2</th>\n",
       "      <td>D1002</td>\n",
       "      <td>2025-01-08 13:50:00</td>\n",
       "      <td>Appointment</td>\n",
       "      <td>13:30:00</td>\n",
       "      <td>0</td>\n",
       "      <td>0</td>\n",
       "    </tr>\n",
       "    <tr>\n",
       "      <th>3</th>\n",
       "      <td>D1003</td>\n",
       "      <td>2025-01-05 05:16:00</td>\n",
       "      <td>Exercise</td>\n",
       "      <td>08:00:00</td>\n",
       "      <td>0</td>\n",
       "      <td>0</td>\n",
       "    </tr>\n",
       "    <tr>\n",
       "      <th>4</th>\n",
       "      <td>D1004</td>\n",
       "      <td>2025-01-01 04:20:00</td>\n",
       "      <td>Medication</td>\n",
       "      <td>11:30:00</td>\n",
       "      <td>0</td>\n",
       "      <td>0</td>\n",
       "    </tr>\n",
       "  </tbody>\n",
       "</table>\n",
       "</div>"
      ],
      "text/plain": [
       "  user_id           timestamp reminder_type schedule_time  reminder_sent  \\\n",
       "0   D1000 2025-01-02 11:25:00      Exercise      13:00:00              0   \n",
       "1   D1001 2025-01-03 02:52:00     Hydration      13:00:00              1   \n",
       "2   D1002 2025-01-08 13:50:00   Appointment      13:30:00              0   \n",
       "3   D1003 2025-01-05 05:16:00      Exercise      08:00:00              0   \n",
       "4   D1004 2025-01-01 04:20:00    Medication      11:30:00              0   \n",
       "\n",
       "   acknowledged  \n",
       "0             0  \n",
       "1             1  \n",
       "2             0  \n",
       "3             0  \n",
       "4             0  "
      ]
     },
     "execution_count": 10,
     "metadata": {},
     "output_type": "execute_result"
    }
   ],
   "source": [
    "daily_reminder_df.head()"
   ]
  },
  {
   "cell_type": "code",
   "execution_count": 11,
   "metadata": {},
   "outputs": [],
   "source": [
    "# Saving the cleaned data to cleaned data folder\n",
    "data_folder = \"../cleaned_data\"\n",
    "file_name = \"cleaned_daily_reminder_dataset.csv\"\n",
    "file_path = os.path.join(data_folder, file_name)\n",
    "daily_reminder_df.to_csv(file_path, index=False)"
   ]
  },
  {
   "cell_type": "markdown",
   "metadata": {},
   "source": [
    "## Inserting the daily reminder into PostgreSQL"
   ]
  },
  {
   "cell_type": "code",
   "execution_count": 12,
   "metadata": {},
   "outputs": [],
   "source": [
    "import psycopg2\n",
    "\n",
    "# sql connection details\n",
    "conn = psycopg2.connect(\n",
    "    dbname = \"elderly_care\",\n",
    "    user = \"postgres\",\n",
    "    password = \"system\",\n",
    "    host = \"localhost\",\n",
    "    port = \"5432\"\n",
    "    \n",
    ")\n",
    "cur = conn.cursor()"
   ]
  },
  {
   "cell_type": "code",
   "execution_count": 13,
   "metadata": {},
   "outputs": [],
   "source": [
    "# Inserting data\n",
    "for _, row in daily_reminder_df.iterrows():\n",
    "    cur.execute(\"\"\"\n",
    "        INSERT INTO daily_reminder (\n",
    "            user_id, timestamp, reminder_type,\n",
    "            schedule_time, reminder_sent, acknowledged\n",
    "        )\n",
    "        VALUES (%s, %s, %s, %s, %s, %s)\n",
    "    \"\"\", (row['user_id'], row['timestamp'], row['reminder_type'], str(row['schedule_time']), row['reminder_sent'], row['acknowledged']))"
   ]
  },
  {
   "cell_type": "code",
   "execution_count": 14,
   "metadata": {},
   "outputs": [
    {
     "name": "stdout",
     "output_type": "stream",
     "text": [
      " Data inserted successfully!\n"
     ]
    }
   ],
   "source": [
    "# Commit and close\n",
    "conn.commit()\n",
    "cur.close()\n",
    "conn.close()\n",
    "print(\" Data inserted successfully!\")"
   ]
  }
 ],
 "metadata": {
  "kernelspec": {
   "display_name": "Python 3",
   "language": "python",
   "name": "python3"
  },
  "language_info": {
   "codemirror_mode": {
    "name": "ipython",
    "version": 3
   },
   "file_extension": ".py",
   "mimetype": "text/x-python",
   "name": "python",
   "nbconvert_exporter": "python",
   "pygments_lexer": "ipython3",
   "version": "3.12.7"
  }
 },
 "nbformat": 4,
 "nbformat_minor": 2
}
