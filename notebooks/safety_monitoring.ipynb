{
 "cells": [
  {
   "cell_type": "markdown",
   "metadata": {},
   "source": [
    "# Safety Monitoring Dataset"
   ]
  },
  {
   "cell_type": "code",
   "execution_count": 1,
   "metadata": {},
   "outputs": [
    {
     "name": "stderr",
     "output_type": "stream",
     "text": [
      "<>:5: SyntaxWarning: invalid escape sequence '\\M'\n",
      "<>:5: SyntaxWarning: invalid escape sequence '\\M'\n",
      "C:\\Users\\DELL\\AppData\\Local\\Temp\\ipykernel_15744\\3876787320.py:5: SyntaxWarning: invalid escape sequence '\\M'\n",
      "  safety_df = pd.read_csv(\"D:\\Machine_Learning_Project\\AI_for_Elderly_Care_and_Support\\Dataset\\safety_monitoring.csv\")\n"
     ]
    },
    {
     "data": {
      "text/html": [
       "<div>\n",
       "<style scoped>\n",
       "    .dataframe tbody tr th:only-of-type {\n",
       "        vertical-align: middle;\n",
       "    }\n",
       "\n",
       "    .dataframe tbody tr th {\n",
       "        vertical-align: top;\n",
       "    }\n",
       "\n",
       "    .dataframe thead th {\n",
       "        text-align: right;\n",
       "    }\n",
       "</style>\n",
       "<table border=\"1\" class=\"dataframe\">\n",
       "  <thead>\n",
       "    <tr style=\"text-align: right;\">\n",
       "      <th></th>\n",
       "      <th>Device-ID/User-ID</th>\n",
       "      <th>Timestamp</th>\n",
       "      <th>Movement Activity</th>\n",
       "      <th>Fall Detected (Yes/No)</th>\n",
       "      <th>Impact Force Level</th>\n",
       "      <th>Post-Fall Inactivity Duration (Seconds)</th>\n",
       "      <th>Location</th>\n",
       "      <th>Alert Triggered (Yes/No)</th>\n",
       "      <th>Caregiver Notified (Yes/No)</th>\n",
       "      <th>Unnamed: 9</th>\n",
       "    </tr>\n",
       "  </thead>\n",
       "  <tbody>\n",
       "    <tr>\n",
       "      <th>0</th>\n",
       "      <td>D1000</td>\n",
       "      <td>1/7/2025 16:04</td>\n",
       "      <td>No Movement</td>\n",
       "      <td>No</td>\n",
       "      <td>-</td>\n",
       "      <td>0</td>\n",
       "      <td>Kitchen</td>\n",
       "      <td>No</td>\n",
       "      <td>No</td>\n",
       "      <td>NaN</td>\n",
       "    </tr>\n",
       "    <tr>\n",
       "      <th>1</th>\n",
       "      <td>D1001</td>\n",
       "      <td>1/20/2025 15:45</td>\n",
       "      <td>Lying</td>\n",
       "      <td>No</td>\n",
       "      <td>-</td>\n",
       "      <td>0</td>\n",
       "      <td>Living Room</td>\n",
       "      <td>No</td>\n",
       "      <td>No</td>\n",
       "      <td>NaN</td>\n",
       "    </tr>\n",
       "    <tr>\n",
       "      <th>2</th>\n",
       "      <td>D1002</td>\n",
       "      <td>1/2/2025 2:42</td>\n",
       "      <td>No Movement</td>\n",
       "      <td>No</td>\n",
       "      <td>-</td>\n",
       "      <td>0</td>\n",
       "      <td>Bedroom</td>\n",
       "      <td>No</td>\n",
       "      <td>No</td>\n",
       "      <td>NaN</td>\n",
       "    </tr>\n",
       "    <tr>\n",
       "      <th>3</th>\n",
       "      <td>D1003</td>\n",
       "      <td>1/1/2025 22:36</td>\n",
       "      <td>Lying</td>\n",
       "      <td>No</td>\n",
       "      <td>-</td>\n",
       "      <td>0</td>\n",
       "      <td>Kitchen</td>\n",
       "      <td>No</td>\n",
       "      <td>No</td>\n",
       "      <td>NaN</td>\n",
       "    </tr>\n",
       "    <tr>\n",
       "      <th>4</th>\n",
       "      <td>D1004</td>\n",
       "      <td>1/3/2025 16:30</td>\n",
       "      <td>No Movement</td>\n",
       "      <td>No</td>\n",
       "      <td>-</td>\n",
       "      <td>0</td>\n",
       "      <td>Bedroom</td>\n",
       "      <td>No</td>\n",
       "      <td>No</td>\n",
       "      <td>NaN</td>\n",
       "    </tr>\n",
       "  </tbody>\n",
       "</table>\n",
       "</div>"
      ],
      "text/plain": [
       "  Device-ID/User-ID        Timestamp Movement Activity Fall Detected (Yes/No)  \\\n",
       "0             D1000   1/7/2025 16:04       No Movement                     No   \n",
       "1             D1001  1/20/2025 15:45             Lying                     No   \n",
       "2             D1002    1/2/2025 2:42       No Movement                     No   \n",
       "3             D1003   1/1/2025 22:36             Lying                     No   \n",
       "4             D1004   1/3/2025 16:30       No Movement                     No   \n",
       "\n",
       "  Impact Force Level  Post-Fall Inactivity Duration (Seconds)     Location  \\\n",
       "0                  -                                        0      Kitchen   \n",
       "1                  -                                        0  Living Room   \n",
       "2                  -                                        0      Bedroom   \n",
       "3                  -                                        0      Kitchen   \n",
       "4                  -                                        0      Bedroom   \n",
       "\n",
       "  Alert Triggered (Yes/No) Caregiver Notified (Yes/No)  Unnamed: 9  \n",
       "0                       No                          No         NaN  \n",
       "1                       No                          No         NaN  \n",
       "2                       No                          No         NaN  \n",
       "3                       No                          No         NaN  \n",
       "4                       No                          No         NaN  "
      ]
     },
     "execution_count": 1,
     "metadata": {},
     "output_type": "execute_result"
    }
   ],
   "source": [
    "# Importing the Lib\n",
    "import pandas as pd\n",
    "import os\n",
    "\n",
    "safety_df = pd.read_csv(\"D:\\Machine_Learning_Project\\AI_for_Elderly_Care_and_Support\\Dataset\\safety_monitoring.csv\")\n",
    "safety_df.head()"
   ]
  },
  {
   "cell_type": "code",
   "execution_count": 2,
   "metadata": {},
   "outputs": [
    {
     "name": "stdout",
     "output_type": "stream",
     "text": [
      "Index(['Device-ID/User-ID', 'Timestamp', 'Movement Activity',\n",
      "       'Fall Detected (Yes/No)', 'Impact Force Level',\n",
      "       'Post-Fall Inactivity Duration (Seconds)', 'Location',\n",
      "       'Alert Triggered (Yes/No)', 'Caregiver Notified (Yes/No)',\n",
      "       'Unnamed: 9'],\n",
      "      dtype='object')\n"
     ]
    }
   ],
   "source": [
    "# Columns\n",
    "print(safety_df.columns)"
   ]
  },
  {
   "cell_type": "code",
   "execution_count": 3,
   "metadata": {},
   "outputs": [
    {
     "name": "stdout",
     "output_type": "stream",
     "text": [
      "Total Rows and Columns are (10000, 10)\n"
     ]
    }
   ],
   "source": [
    "# Total Rows and Columns\n",
    "print(\"Total Rows and Columns are\", safety_df.shape)"
   ]
  },
  {
   "cell_type": "code",
   "execution_count": 4,
   "metadata": {},
   "outputs": [
    {
     "data": {
      "text/plain": [
       "Device-ID/User-ID                              0\n",
       "Timestamp                                      0\n",
       "Movement Activity                              0\n",
       "Fall Detected (Yes/No)                         0\n",
       "Impact Force Level                             0\n",
       "Post-Fall Inactivity Duration (Seconds)        0\n",
       "Location                                       0\n",
       "Alert Triggered (Yes/No)                       0\n",
       "Caregiver Notified (Yes/No)                    0\n",
       "Unnamed: 9                                 10000\n",
       "dtype: int64"
      ]
     },
     "execution_count": 4,
     "metadata": {},
     "output_type": "execute_result"
    }
   ],
   "source": [
    "# Checking if any missing value is there\n",
    "safety_df.isnull().sum()"
   ]
  },
  {
   "cell_type": "code",
   "execution_count": 5,
   "metadata": {},
   "outputs": [
    {
     "data": {
      "text/html": [
       "<div>\n",
       "<style scoped>\n",
       "    .dataframe tbody tr th:only-of-type {\n",
       "        vertical-align: middle;\n",
       "    }\n",
       "\n",
       "    .dataframe tbody tr th {\n",
       "        vertical-align: top;\n",
       "    }\n",
       "\n",
       "    .dataframe thead th {\n",
       "        text-align: right;\n",
       "    }\n",
       "</style>\n",
       "<table border=\"1\" class=\"dataframe\">\n",
       "  <thead>\n",
       "    <tr style=\"text-align: right;\">\n",
       "      <th></th>\n",
       "      <th>user_id</th>\n",
       "      <th>timestamp</th>\n",
       "      <th>movement_activity</th>\n",
       "      <th>fall_detected</th>\n",
       "      <th>impact_force_level</th>\n",
       "      <th>post_fall_inactivity_duration</th>\n",
       "      <th>location</th>\n",
       "      <th>alert_triggered</th>\n",
       "      <th>caregiver_notified</th>\n",
       "      <th>extra_column</th>\n",
       "    </tr>\n",
       "  </thead>\n",
       "  <tbody>\n",
       "    <tr>\n",
       "      <th>0</th>\n",
       "      <td>D1000</td>\n",
       "      <td>1/7/2025 16:04</td>\n",
       "      <td>No Movement</td>\n",
       "      <td>No</td>\n",
       "      <td>-</td>\n",
       "      <td>0</td>\n",
       "      <td>Kitchen</td>\n",
       "      <td>No</td>\n",
       "      <td>No</td>\n",
       "      <td>NaN</td>\n",
       "    </tr>\n",
       "    <tr>\n",
       "      <th>1</th>\n",
       "      <td>D1001</td>\n",
       "      <td>1/20/2025 15:45</td>\n",
       "      <td>Lying</td>\n",
       "      <td>No</td>\n",
       "      <td>-</td>\n",
       "      <td>0</td>\n",
       "      <td>Living Room</td>\n",
       "      <td>No</td>\n",
       "      <td>No</td>\n",
       "      <td>NaN</td>\n",
       "    </tr>\n",
       "  </tbody>\n",
       "</table>\n",
       "</div>"
      ],
      "text/plain": [
       "  user_id        timestamp movement_activity fall_detected impact_force_level  \\\n",
       "0   D1000   1/7/2025 16:04       No Movement            No                  -   \n",
       "1   D1001  1/20/2025 15:45             Lying            No                  -   \n",
       "\n",
       "   post_fall_inactivity_duration     location alert_triggered  \\\n",
       "0                              0      Kitchen              No   \n",
       "1                              0  Living Room              No   \n",
       "\n",
       "  caregiver_notified  extra_column  \n",
       "0                 No           NaN  \n",
       "1                 No           NaN  "
      ]
     },
     "execution_count": 5,
     "metadata": {},
     "output_type": "execute_result"
    }
   ],
   "source": [
    "# Renaming the Columns\n",
    "safety_df.columns = [\n",
    "    'user_id',\n",
    "    'timestamp',\n",
    "    'movement_activity',\n",
    "    'fall_detected',\n",
    "    'impact_force_level',\n",
    "    'post_fall_inactivity_duration',\n",
    "    'location',\n",
    "    'alert_triggered',\n",
    "    'caregiver_notified',\n",
    "    'extra_column'\n",
    "]\n",
    "\n",
    "safety_df.head(2)"
   ]
  },
  {
   "cell_type": "code",
   "execution_count": 6,
   "metadata": {},
   "outputs": [],
   "source": [
    "# Droping the Unnecessary Columns\n",
    "safety_df.drop(columns=['extra_column'], inplace = True)"
   ]
  },
  {
   "cell_type": "code",
   "execution_count": 7,
   "metadata": {},
   "outputs": [
    {
     "name": "stderr",
     "output_type": "stream",
     "text": [
      "C:\\Users\\DELL\\AppData\\Local\\Temp\\ipykernel_15744\\2990023784.py:3: FutureWarning: DataFrame.applymap has been deprecated. Use DataFrame.map instead.\n",
      "  safety_df[yes_no_cols] = safety_df[yes_no_cols].applymap(lambda x: 1 if str(x).strip().lower() == 'yes' else 0)\n"
     ]
    }
   ],
   "source": [
    "# Converting yes/No columns to binary\n",
    "yes_no_cols = ['fall_detected', 'alert_triggered', 'caregiver_notified']\n",
    "safety_df[yes_no_cols] = safety_df[yes_no_cols].applymap(lambda x: 1 if str(x).strip().lower() == 'yes' else 0)\n"
   ]
  },
  {
   "cell_type": "code",
   "execution_count": 8,
   "metadata": {},
   "outputs": [],
   "source": [
    "# Converting timestamp to datetime\n",
    "safety_df[\"timestamp\"] = pd.to_datetime(safety_df[\"timestamp\"], errors = \"coerce\")"
   ]
  },
  {
   "cell_type": "code",
   "execution_count": 9,
   "metadata": {},
   "outputs": [],
   "source": [
    "# Striping the whitespace from the columns\n",
    "safety_df[\"movement_activity\"] = safety_df[\"movement_activity\"].str.strip()\n",
    "safety_df[\"location\"] = safety_df[\"location\"].str.strip()"
   ]
  },
  {
   "cell_type": "code",
   "execution_count": 10,
   "metadata": {},
   "outputs": [],
   "source": [
    "# Checking the missing value\n",
    "missing_value = safety_df.isnull().sum() "
   ]
  },
  {
   "cell_type": "code",
   "execution_count": 11,
   "metadata": {},
   "outputs": [
    {
     "data": {
      "text/html": [
       "<div>\n",
       "<style scoped>\n",
       "    .dataframe tbody tr th:only-of-type {\n",
       "        vertical-align: middle;\n",
       "    }\n",
       "\n",
       "    .dataframe tbody tr th {\n",
       "        vertical-align: top;\n",
       "    }\n",
       "\n",
       "    .dataframe thead th {\n",
       "        text-align: right;\n",
       "    }\n",
       "</style>\n",
       "<table border=\"1\" class=\"dataframe\">\n",
       "  <thead>\n",
       "    <tr style=\"text-align: right;\">\n",
       "      <th></th>\n",
       "      <th>user_id</th>\n",
       "      <th>timestamp</th>\n",
       "      <th>movement_activity</th>\n",
       "      <th>fall_detected</th>\n",
       "      <th>impact_force_level</th>\n",
       "      <th>post_fall_inactivity_duration</th>\n",
       "      <th>location</th>\n",
       "      <th>alert_triggered</th>\n",
       "      <th>caregiver_notified</th>\n",
       "    </tr>\n",
       "  </thead>\n",
       "  <tbody>\n",
       "    <tr>\n",
       "      <th>0</th>\n",
       "      <td>D1000</td>\n",
       "      <td>2025-01-07 16:04:00</td>\n",
       "      <td>No Movement</td>\n",
       "      <td>0</td>\n",
       "      <td>-</td>\n",
       "      <td>0</td>\n",
       "      <td>Kitchen</td>\n",
       "      <td>0</td>\n",
       "      <td>0</td>\n",
       "    </tr>\n",
       "    <tr>\n",
       "      <th>1</th>\n",
       "      <td>D1001</td>\n",
       "      <td>2025-01-20 15:45:00</td>\n",
       "      <td>Lying</td>\n",
       "      <td>0</td>\n",
       "      <td>-</td>\n",
       "      <td>0</td>\n",
       "      <td>Living Room</td>\n",
       "      <td>0</td>\n",
       "      <td>0</td>\n",
       "    </tr>\n",
       "    <tr>\n",
       "      <th>2</th>\n",
       "      <td>D1002</td>\n",
       "      <td>2025-01-02 02:42:00</td>\n",
       "      <td>No Movement</td>\n",
       "      <td>0</td>\n",
       "      <td>-</td>\n",
       "      <td>0</td>\n",
       "      <td>Bedroom</td>\n",
       "      <td>0</td>\n",
       "      <td>0</td>\n",
       "    </tr>\n",
       "    <tr>\n",
       "      <th>3</th>\n",
       "      <td>D1003</td>\n",
       "      <td>2025-01-01 22:36:00</td>\n",
       "      <td>Lying</td>\n",
       "      <td>0</td>\n",
       "      <td>-</td>\n",
       "      <td>0</td>\n",
       "      <td>Kitchen</td>\n",
       "      <td>0</td>\n",
       "      <td>0</td>\n",
       "    </tr>\n",
       "    <tr>\n",
       "      <th>4</th>\n",
       "      <td>D1004</td>\n",
       "      <td>2025-01-03 16:30:00</td>\n",
       "      <td>No Movement</td>\n",
       "      <td>0</td>\n",
       "      <td>-</td>\n",
       "      <td>0</td>\n",
       "      <td>Bedroom</td>\n",
       "      <td>0</td>\n",
       "      <td>0</td>\n",
       "    </tr>\n",
       "  </tbody>\n",
       "</table>\n",
       "</div>"
      ],
      "text/plain": [
       "  user_id           timestamp movement_activity  fall_detected  \\\n",
       "0   D1000 2025-01-07 16:04:00       No Movement              0   \n",
       "1   D1001 2025-01-20 15:45:00             Lying              0   \n",
       "2   D1002 2025-01-02 02:42:00       No Movement              0   \n",
       "3   D1003 2025-01-01 22:36:00             Lying              0   \n",
       "4   D1004 2025-01-03 16:30:00       No Movement              0   \n",
       "\n",
       "  impact_force_level  post_fall_inactivity_duration     location  \\\n",
       "0                  -                              0      Kitchen   \n",
       "1                  -                              0  Living Room   \n",
       "2                  -                              0      Bedroom   \n",
       "3                  -                              0      Kitchen   \n",
       "4                  -                              0      Bedroom   \n",
       "\n",
       "   alert_triggered  caregiver_notified  \n",
       "0                0                   0  \n",
       "1                0                   0  \n",
       "2                0                   0  \n",
       "3                0                   0  \n",
       "4                0                   0  "
      ]
     },
     "execution_count": 11,
     "metadata": {},
     "output_type": "execute_result"
    }
   ],
   "source": [
    "safety_df.head()"
   ]
  },
  {
   "cell_type": "code",
   "execution_count": 12,
   "metadata": {},
   "outputs": [
    {
     "data": {
      "text/plain": [
       "user_id                          0\n",
       "timestamp                        0\n",
       "movement_activity                0\n",
       "fall_detected                    0\n",
       "impact_force_level               0\n",
       "post_fall_inactivity_duration    0\n",
       "location                         0\n",
       "alert_triggered                  0\n",
       "caregiver_notified               0\n",
       "dtype: int64"
      ]
     },
     "execution_count": 12,
     "metadata": {},
     "output_type": "execute_result"
    }
   ],
   "source": [
    "safety_df.isnull().sum()"
   ]
  },
  {
   "cell_type": "code",
   "execution_count": 13,
   "metadata": {},
   "outputs": [],
   "source": [
    "# Saving the cleaned data to cleaned data folder\n",
    "data_folder = \"../cleaned_data\"\n",
    "file_name = \"cleaned_safety_monitoring_dataset.csv\"\n",
    "file_path = os.path.join(data_folder, file_name)\n",
    "safety_df.to_csv(file_path, index=False)"
   ]
  },
  {
   "cell_type": "markdown",
   "metadata": {},
   "source": [
    "## Integrating the PostgreSQL"
   ]
  },
  {
   "cell_type": "code",
   "execution_count": 14,
   "metadata": {},
   "outputs": [],
   "source": [
    "import psycopg2\n",
    "\n",
    "# Connecting to postgresql\n",
    "\n",
    "conn = psycopg2.connect(\n",
    "    dbname = \"elderly_care\",\n",
    "    user = \"postgres\",\n",
    "    password = \"system\",\n",
    "    host = \"localhost\",\n",
    "    port = \"5432\"\n",
    "    \n",
    ")\n",
    "cur = conn.cursor()"
   ]
  },
  {
   "cell_type": "code",
   "execution_count": 15,
   "metadata": {},
   "outputs": [],
   "source": [
    "conn.rollback()"
   ]
  },
  {
   "cell_type": "code",
   "execution_count": 16,
   "metadata": {},
   "outputs": [],
   "source": [
    "for _, row in safety_df.iterrows():\n",
    "    cur.execute(\"\"\"\n",
    "        INSERT INTO safety_monitoring (\n",
    "            user_id, timestamp, movement_activity, fall_detected,\n",
    "            impact_force_level, post_fall_inactivity_duration,\n",
    "            location, alert_triggered, caregiver_notified\n",
    "        )\n",
    "        VALUES (%s, %s, %s, %s, %s, %s, %s, %s, %s)\n",
    "    \"\"\", tuple(row))"
   ]
  },
  {
   "cell_type": "code",
   "execution_count": 17,
   "metadata": {},
   "outputs": [
    {
     "name": "stdout",
     "output_type": "stream",
     "text": [
      "Safety monitoring data inserted in \n"
     ]
    }
   ],
   "source": [
    "conn.commit()\n",
    "cur.close()\n",
    "conn.close()\n",
    "\n",
    "\n",
    "print(\"Safety monitoring data inserted in \")"
   ]
  },
  {
   "cell_type": "code",
   "execution_count": null,
   "metadata": {},
   "outputs": [],
   "source": []
  }
 ],
 "metadata": {
  "kernelspec": {
   "display_name": "Python 3",
   "language": "python",
   "name": "python3"
  },
  "language_info": {
   "codemirror_mode": {
    "name": "ipython",
    "version": 3
   },
   "file_extension": ".py",
   "mimetype": "text/x-python",
   "name": "python",
   "nbconvert_exporter": "python",
   "pygments_lexer": "ipython3",
   "version": "3.12.7"
  }
 },
 "nbformat": 4,
 "nbformat_minor": 2
}
